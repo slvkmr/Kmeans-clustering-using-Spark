{
 "cells": [
  {
   "cell_type": "code",
   "execution_count": 1,
   "metadata": {
    "colab": {},
    "colab_type": "code",
    "id": "crFo9A2ajsmw"
   },
   "outputs": [],
   "source": [
    "import numpy as np\n",
    "import pandas as pd\n",
    "import random\n",
    "import time\n",
    "from pyspark import SparkContext\n",
    "from pyspark.sql import SparkSession\n",
    "import matplotlib.pyplot as plt\n",
    "import math\n"
   ]
  },
  {
   "cell_type": "code",
   "execution_count": 18,
   "metadata": {
    "colab": {},
    "colab_type": "code",
    "id": "pf2KrI-JuMPQ"
   },
   "outputs": [],
   "source": [
    "iterations = 20\n",
    "dataset_path = r\"C:\\Users\\Selva\\Downloads\\data.txt\"\n",
    "centroids_path = r\"C:\\Users\\Selva\\Downloads\\c2.txt\"\n",
    "euclidean_distance = False"
   ]
  },
  {
   "cell_type": "code",
   "execution_count": 20,
   "metadata": {
    "colab": {},
    "colab_type": "code",
    "id": "aWkOu2cVl1pA"
   },
   "outputs": [],
   "source": [
    "sc = SparkContext()\n",
    "data = sc.textFile(dataset_path)\n",
    "centroids = sc.textFile(centroids_path)"
   ]
  },
  {
   "cell_type": "code",
   "execution_count": 21,
   "metadata": {
    "colab": {},
    "colab_type": "code",
    "id": "oxIRuV7JrAQS"
   },
   "outputs": [],
   "source": [
    "data = data.map(lambda x: np.array(list(x.split())).astype(np.float))\n",
    "centroids = centroids.map(lambda x: np.array(list(x.split())).astype(np.float))"
   ]
  },
  {
   "cell_type": "code",
   "execution_count": 22,
   "metadata": {
    "colab": {
     "base_uri": "https://localhost:8080/",
     "height": 168
    },
    "colab_type": "code",
    "id": "zn8o-EL6rLHW",
    "outputId": "97d29e04-8883-46d0-f29e-20087f8dc9d7"
   },
   "outputs": [
    {
     "data": {
      "text/plain": [
       "[array([  0.   ,   0.64 ,   0.64 ,   0.   ,   0.32 ,   0.   ,   0.   ,\n",
       "          0.   ,   0.   ,   0.   ,   0.   ,   0.64 ,   0.   ,   0.   ,\n",
       "          0.   ,   0.32 ,   0.   ,   1.29 ,   1.93 ,   0.   ,   0.96 ,\n",
       "          0.   ,   0.   ,   0.   ,   0.   ,   0.   ,   0.   ,   0.   ,\n",
       "          0.   ,   0.   ,   0.   ,   0.   ,   0.   ,   0.   ,   0.   ,\n",
       "          0.   ,   0.   ,   0.   ,   0.   ,   0.   ,   0.   ,   0.   ,\n",
       "          0.   ,   0.   ,   0.   ,   0.   ,   0.   ,   0.   ,   0.   ,\n",
       "          0.   ,   0.   ,   0.778,   0.   ,   0.   ,   3.756,  61.   ,\n",
       "        278.   ,   1.   ])]"
      ]
     },
     "execution_count": 22,
     "metadata": {},
     "output_type": "execute_result"
    }
   ],
   "source": [
    "data.take(1)"
   ]
  },
  {
   "cell_type": "code",
   "execution_count": 23,
   "metadata": {
    "colab": {
     "base_uri": "https://localhost:8080/",
     "height": 168
    },
    "colab_type": "code",
    "id": "vLUsLMAUvDDM",
    "outputId": "6ad11197-70cd-44cc-8ba8-6397193cbca0"
   },
   "outputs": [
    {
     "data": {
      "text/plain": [
       "[array([  0.   ,   0.64 ,   0.64 ,   0.   ,   0.32 ,   0.   ,   0.   ,\n",
       "          0.   ,   0.   ,   0.   ,   0.   ,   0.64 ,   0.   ,   0.   ,\n",
       "          0.   ,   0.32 ,   0.   ,   1.29 ,   1.93 ,   0.   ,   0.96 ,\n",
       "          0.   ,   0.   ,   0.   ,   0.   ,   0.   ,   0.   ,   0.   ,\n",
       "          0.   ,   0.   ,   0.   ,   0.   ,   0.   ,   0.   ,   0.   ,\n",
       "          0.   ,   0.   ,   0.   ,   0.   ,   0.   ,   0.   ,   0.   ,\n",
       "          0.   ,   0.   ,   0.   ,   0.   ,   0.   ,   0.   ,   0.   ,\n",
       "          0.   ,   0.   ,   0.778,   0.   ,   0.   ,   3.756,  61.   ,\n",
       "        278.   ,   1.   ])]"
      ]
     },
     "execution_count": 23,
     "metadata": {},
     "output_type": "execute_result"
    }
   ],
   "source": [
    "centroids.take(1)"
   ]
  },
  {
   "cell_type": "code",
   "execution_count": 24,
   "metadata": {
    "colab": {},
    "colab_type": "code",
    "id": "eCqwhY5wQPDF"
   },
   "outputs": [],
   "source": [
    "def eucledian_distance(a,b):\n",
    "    dist = 0 \n",
    "    for i in range(0,len(a)):\n",
    "        dist = dist + math.pow(a[i]-b[i],2)\n",
    "    return math.sqrt(dist)"
   ]
  },
  {
   "cell_type": "code",
   "execution_count": 25,
   "metadata": {
    "colab": {},
    "colab_type": "code",
    "id": "w0syXQYTRczo"
   },
   "outputs": [],
   "source": [
    "def manhattan_distance(a,b):\n",
    "    dist = 0 \n",
    "    for i in range(0,len(a)):\n",
    "        dist = dist + abs(a[i]-b[i])\n",
    "    return dist"
   ]
  },
  {
   "cell_type": "code",
   "execution_count": 26,
   "metadata": {
    "colab": {},
    "colab_type": "code",
    "id": "bNGwUKsWoYNh"
   },
   "outputs": [],
   "source": [
    "def compute_distance(a,b,euclidean_distance):\n",
    "    if euclidean_distance:\n",
    "        return eucledian_distance(a,b)\n",
    "    else:\n",
    "        return manhattan_distance(a,b)"
   ]
  },
  {
   "cell_type": "code",
   "execution_count": 27,
   "metadata": {
    "colab": {},
    "colab_type": "code",
    "id": "pDpWpD8a7OTJ"
   },
   "outputs": [],
   "source": [
    "def compute_cost(min_distance,euclidean_distance):\n",
    "    if eucledian_distance:\n",
    "        return math.pow(min_distance,2)\n",
    "    else:\n",
    "        return min_distance"
   ]
  },
  {
   "cell_type": "code",
   "execution_count": 28,
   "metadata": {
    "colab": {},
    "colab_type": "code",
    "id": "R6CNWh_azeeG"
   },
   "outputs": [],
   "source": [
    "def assign_centroid(data_point,centroids_list,euclidean_distance):\n",
    "    min_distance = float(\"inf\")\n",
    "    c = -1\n",
    "    for k in range(0,len(centroids_list)):\n",
    "        temp_distance = compute_distance(data_point,centroids_list[k],euclidean_distance)\n",
    "        if temp_distance <= min_distance:\n",
    "            min_distance = temp_distance\n",
    "            c = k\n",
    "    cost = compute_cost(min_distance,euclidean_distance)\n",
    "    return c,cost"
   ]
  },
  {
   "cell_type": "code",
   "execution_count": 29,
   "metadata": {
    "colab": {},
    "colab_type": "code",
    "id": "p-WATkVtwGh7"
   },
   "outputs": [],
   "source": [
    "def kmeans(data, centroids, iterations, euclidean_distance):\n",
    "    distances = [(0,float(\"inf\"))]*data.count()\n",
    "    data = data.zipWithIndex()\n",
    "    cost = []\n",
    "    centroids_list = centroids.collect()\n",
    "    measure = \"\"\n",
    "    if euclidean_distance:\n",
    "        measure = \"Eucledian\"\n",
    "    else:\n",
    "        measure = \"Manhattan\"\n",
    "    print(\"Max iterations : \" +str(iterations) +\", distance measure: \"+(measure))\n",
    "    for i in range(0,iterations):\n",
    "        points_with_centroids = data.map(lambda d: (assign_centroid(d[0],centroids_list,euclidean_distance)))\n",
    "        cost.append(points_with_centroids.values().sum())\n",
    "        for j in range(0,len(centroids_list)):\n",
    "            current_cluster_data_indices = points_with_centroids.zipWithIndex().filter(lambda z: z[0][0] == j).map(lambda z: z[1])\n",
    "            current_cluster_data_indices_list = current_cluster_data_indices.collect()\n",
    "            current_cluster_points = data.filter(lambda z: z[1] in current_cluster_data_indices_list).map(lambda z: z[0])\n",
    "            centroids_list[j] = current_cluster_points.mean()\n",
    "        print(\"Iteration \" + str(i+1) +\": \" + str(cost[i]))\n",
    "    return cost"
   ]
  },
  {
   "cell_type": "code",
   "execution_count": 31,
   "metadata": {
    "colab": {
     "base_uri": "https://localhost:8080/",
     "height": 67
    },
    "colab_type": "code",
    "id": "L8R9vwGNzHvl",
    "outputId": "f7045602-7788-44d0-a33f-ad97f54db8a0"
   },
   "outputs": [
    {
     "name": "stdout",
     "output_type": "stream",
     "text": [
      "Max iterations : 20, distance measure: Manhattan\n",
      "Iteration 1: 655439563.7534091\n",
      "Iteration 2: 413705217.4542825\n",
      "Iteration 3: 328497470.8182906\n",
      "Iteration 4: 293722399.34747976\n",
      "Iteration 5: 277431076.7992791\n",
      "Iteration 6: 261213468.0040863\n",
      "Iteration 7: 250299830.35410452\n",
      "Iteration 8: 228097491.03422523\n",
      "Iteration 9: 214101749.5963676\n",
      "Iteration 10: 209285429.9481863\n",
      "Iteration 11: 207576806.19860598\n",
      "Iteration 12: 205428736.4893818\n",
      "Iteration 13: 203840885.21360666\n",
      "Iteration 14: 201709439.45644003\n",
      "Iteration 15: 199719165.45965225\n",
      "Iteration 16: 197988302.80494282\n",
      "Iteration 17: 196383379.32653075\n",
      "Iteration 18: 195310410.03057364\n",
      "Iteration 19: 194676779.46828613\n",
      "Iteration 20: 193878096.18808842\n"
     ]
    }
   ],
   "source": [
    "cost = kmeans(data, centroids, iterations, euclidean_distance)"
   ]
  },
  {
   "cell_type": "code",
   "execution_count": 32,
   "metadata": {},
   "outputs": [
    {
     "name": "stdout",
     "output_type": "stream",
     "text": [
      "[655439563.7534091, 413705217.4542825, 328497470.8182906, 293722399.34747976, 277431076.7992791, 261213468.0040863, 250299830.35410452, 228097491.03422523, 214101749.5963676, 209285429.9481863, 207576806.19860598, 205428736.4893818, 203840885.21360666, 201709439.45644003, 199719165.45965225, 197988302.80494282, 196383379.32653075, 195310410.03057364, 194676779.46828613, 193878096.18808842]\n"
     ]
    }
   ],
   "source": [
    "c2_man_cost = cost\n",
    "print(c2_man_cost)"
   ]
  }
 ],
 "metadata": {
  "colab": {
   "collapsed_sections": [],
   "name": "2a-Kmeans.ipynb",
   "provenance": []
  },
  "kernelspec": {
   "display_name": "Python 3",
   "language": "python",
   "name": "python3"
  },
  "language_info": {
   "codemirror_mode": {
    "name": "ipython",
    "version": 3
   },
   "file_extension": ".py",
   "mimetype": "text/x-python",
   "name": "python",
   "nbconvert_exporter": "python",
   "pygments_lexer": "ipython3",
   "version": "3.6.9"
  }
 },
 "nbformat": 4,
 "nbformat_minor": 1
}
